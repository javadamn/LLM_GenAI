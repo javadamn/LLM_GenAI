{
 "cells": [
  {
   "cell_type": "code",
   "execution_count": 1,
   "id": "867566f3-3090-463e-bb5b-912fcc218686",
   "metadata": {},
   "outputs": [
    {
     "name": "stderr",
     "output_type": "stream",
     "text": [
      "/new/benpyenv/lib/python3.10/site-packages/tqdm/auto.py:21: TqdmWarning: IProgress not found. Please update jupyter and ipywidgets. See https://ipywidgets.readthedocs.io/en/stable/user_install.html\n",
      "  from .autonotebook import tqdm as notebook_tqdm\n"
     ]
    }
   ],
   "source": [
    "from transformers import AutoTokenizer, AutoModelForCausalLM, pipeline\n",
    "import torch\n",
    "import json\n"
   ]
  },
  {
   "cell_type": "code",
   "execution_count": 5,
   "id": "ae0cd258-6388-4862-8314-2e552fb99c5e",
   "metadata": {},
   "outputs": [],
   "source": [
    "models = {\n",
    "    \"TinyLlama\": \"TinyLlama/TinyLlama-1.1B-Chat-v1.0\",\n",
    "    \"Phi-2\": \"microsoft/phi-2\",\n",
    "    # \"Mistral-7B\": \"mistralai/Mistral-7B-Instruct-v0.1\",\n",
    "    # \"Zephyr-7B\": \"HuggingFaceH4/zephyr-7b-beta\",\n",
    "    \"GPT-Neo-1.3B\": \"EleutherAI/gpt-neo-1.3B\"\n",
    "}\n",
    "\n",
    "prompts = {\n",
    "    \"Prompt 1\": \"Explain the concept of overfitting in machine learning to a high school student.\",\n",
    "    \"Prompt 2\": \"Write a short story involving a robot learning to feel emotions for the first time.\"\n",
    "}\n"
   ]
  },
  {
   "cell_type": "code",
   "execution_count": 6,
   "id": "a372f081-2021-433c-8de8-baeb5a645369",
   "metadata": {},
   "outputs": [
    {
     "name": "stdout",
     "output_type": "stream",
     "text": [
      "\n",
      "Loading model: TinyLlama\n"
     ]
    },
    {
     "name": "stderr",
     "output_type": "stream",
     "text": [
      "Device set to use cpu\n"
     ]
    },
    {
     "name": "stdout",
     "output_type": "stream",
     "text": [
      "Generating response from TinyLlama for Prompt 1\n",
      "Generating response from TinyLlama for Prompt 2\n",
      "\n",
      "Loading model: Phi-2\n"
     ]
    },
    {
     "name": "stderr",
     "output_type": "stream",
     "text": [
      "Loading checkpoint shards: 100%|██████████████████████████████████████| 2/2 [00:05<00:00,  2.60s/it]\n",
      "Device set to use cpu\n",
      "Setting `pad_token_id` to `eos_token_id`:50256 for open-end generation.\n"
     ]
    },
    {
     "name": "stdout",
     "output_type": "stream",
     "text": [
      "Generating response from Phi-2 for Prompt 1\n"
     ]
    },
    {
     "name": "stderr",
     "output_type": "stream",
     "text": [
      "Setting `pad_token_id` to `eos_token_id`:50256 for open-end generation.\n"
     ]
    },
    {
     "name": "stdout",
     "output_type": "stream",
     "text": [
      "Generating response from Phi-2 for Prompt 2\n",
      "\n",
      "Loading model: GPT-Neo-1.3B\n"
     ]
    },
    {
     "name": "stderr",
     "output_type": "stream",
     "text": [
      "Device set to use cpu\n",
      "Setting `pad_token_id` to `eos_token_id`:50256 for open-end generation.\n"
     ]
    },
    {
     "name": "stdout",
     "output_type": "stream",
     "text": [
      "Generating response from GPT-Neo-1.3B for Prompt 1\n"
     ]
    },
    {
     "name": "stderr",
     "output_type": "stream",
     "text": [
      "Setting `pad_token_id` to `eos_token_id`:50256 for open-end generation.\n"
     ]
    },
    {
     "name": "stdout",
     "output_type": "stream",
     "text": [
      "Generating response from GPT-Neo-1.3B for Prompt 2\n"
     ]
    }
   ],
   "source": [
    "results = {}\n",
    "\n",
    "for model_name, model_id in models.items():\n",
    "    print(f\"\\nLoading model: {model_name}\")\n",
    "    tokenizer = AutoTokenizer.from_pretrained(model_id)\n",
    "    model = AutoModelForCausalLM.from_pretrained(\n",
    "        model_id,\n",
    "        load_in_8bit=True if torch.cuda.is_available() else False,\n",
    "        device_map=\"auto\" if torch.cuda.is_available() else None)\n",
    "\n",
    "    generator = pipeline(\"text-generation\", model=model, tokenizer=tokenizer)\n",
    "\n",
    "    results[model_name] = {}\n",
    "    for prompt_name, prompt_text in prompts.items():\n",
    "        print(f\"Generating response from {model_name} for {prompt_name}\")\n",
    "        response = generator(prompt_text, max_new_tokens=200, do_sample=True, temperature=0.7)[0]['generated_text']\n",
    "        results[model_name][prompt_name] = response"
   ]
  },
  {
   "cell_type": "code",
   "execution_count": 8,
   "id": "88292b2c-f3ae-4003-a547-9c907cbc3bb6",
   "metadata": {},
   "outputs": [
    {
     "data": {
      "text/plain": [
       "{'TinyLlama': {'Prompt 1': 'Explain the concept of overfitting in machine learning to a high school student.',\n",
       "  'Prompt 2': \"Write a short story involving a robot learning to feel emotions for the first time. The story should be written in third person, and the robot should be human-like. The robot's emotions should be controllable and natural, and the story should explore how this changes the relationship between the robot and its human-like master. The story should also include a plot twist that reveals the true nature of the robot's emotions.\"},\n",
       " 'Phi-2': {'Prompt 1': \"Explain the concept of overfitting in machine learning to a high school student.\\n\\nSolution:\\nOverfitting is a problem that can occur in machine learning when a model becomes too complex and starts to learn patterns that are specific to the training data, but not generalizable to new, unseen data. Imagine you are trying to learn how to predict the temperature outside based on the number of people you see wearing jackets. If you only train your model on data from a specific city, it might learn that people who wear jackets in that city are always wearing them, even on sunny days. However, when you try to make predictions in a different city, the model might fail because it doesn't know that people in that city might not wear jackets even on sunny days. This is an example of overfitting. It's like the model is only focused on the specific details of the training data and ignores the bigger picture. To prevent overfitting, we can use techniques like regularization and cross-validation to make sure the model learns the general patterns from the training data, rather\",\n",
       "  'Prompt 2': \"Write a short story involving a robot learning to feel emotions for the first time.\\nAnswer: (No answer provided)\\n\\nExercise: Give an example of a situation where a robot's learning and perception abilities would be beneficial in a household.\\nAnswer: (No answer provided)\\n\\nExercise: Name three different types of sensors that can be used in robots for learning and perception.\\nAnswer: (No answer provided)\\n\\nExercise: How do robots learn from their environment?\\nAnswer: Robots learn from their environment through a process called reinforcement learning, where they receive feedback and rewards for their actions.\\n\\nExercise: Explain the concept of perception in the context of robotics.\\nAnswer: Perception in robotics refers to a robot's ability to understand its surroundings and make sense of the information it receives from its sensors.\\n\\nExercise: Give an example of how a robot's learning and perception capabilities can be used in a healthcare setting.\\nAnswer: (No answer provided)\\n\\nExercise: What is the purpose of a robot's\"},\n",
       " 'GPT-Neo-1.3B': {'Prompt 1': 'Explain the concept of overfitting in machine learning to a high school student.\\n\\nI am looking for some advice on how to approach this specific problem with some specific examples. I am a high school student and not sure if I should have an understanding of the concept of overfitting or not.\\n\\nI am trying to predict the class of a new sample given a new (predicted) sample. My training data is a matrix of size (300 x 300). I want to predict the class of a new sample using the training data. I have a matrix (matrix of size (1 x 30) where the class of the new sample is one of the 20 classes. If I want to predict the class of a new sample, I have to calculate the probability of the class of the new sample given the training data. I have a matrix of size (30 x 1) with one element being the probability of the new sample. I need to calculate the probability of each class using this matrix.\\n\\nSo my question is, what is the best way to',\n",
       "  'Prompt 2': 'Write a short story involving a robot learning to feel emotions for the first time. Write a short story where a robot is taught to understand emotions and is then allowed to express itself. Write a short story where a robot is taught to understand the emotions and is then allowed to express itself.\\n\\nWrite a short story where a robot is taught to understand the emotions and is then allowed to express itself.\\n\\nWrite a short story where a robot is taught to understand the emotions and is then allowed to express itself.\\n\\nA simple idea. A robot is given a small box and is then given a task to perform. This task is to open the box. The task consists of a series of steps. The robot must move towards the box and open it with the least possible effort.\\n\\nThe robot must move towards the box and open it with the least possible effort.\\n\\nSome notes:\\n\\nThe robot must move towards the box and open it with the least possible effort.\\n\\nThe robot must open the box with the least possible effort.\\n\\nSome'}}"
      ]
     },
     "execution_count": 8,
     "metadata": {},
     "output_type": "execute_result"
    }
   ],
   "source": [
    "results"
   ]
  },
  {
   "cell_type": "code",
   "execution_count": 7,
   "id": "be9384fc-e845-4b2a-8aad-639eed852c20",
   "metadata": {},
   "outputs": [],
   "source": [
    "with open(\"llm_outputs.json\", \"w\") as f:\n",
    "    json.dump(results, f, indent=4)"
   ]
  },
  {
   "cell_type": "code",
   "execution_count": 9,
   "id": "b4e4e2e9-026a-43b3-b21e-5dacbef93b1a",
   "metadata": {},
   "outputs": [
    {
     "name": "stdout",
     "output_type": "stream",
     "text": [
      "\n",
      "=== TinyLlama ===\n",
      "\n",
      "[Prompt 1]\n",
      "Explain the concept of overfitting in machine learning to a high school student.\n",
      "\n",
      "\n",
      "[Prompt 2]\n",
      "Write a short story involving a robot learning to feel emotions for the first time. The story should be written in third person, and the robot should be human-like. The robot's emotions should be controllable and natural, and the story should explore how this changes the relationship between the robot and its human-like master. The story should also include a plot twist that reveals the true nature of the robot's emotions.\n",
      "\n",
      "\n",
      "=== Phi-2 ===\n",
      "\n",
      "[Prompt 1]\n",
      "Explain the concept of overfitting in machine learning to a high school student.\n",
      "\n",
      "Solution:\n",
      "Overfitting is a problem that can occur in machine learning when a model becomes too complex and starts to learn patterns that are specific to the training data, but not generalizable to new, unseen data. Imagine you are trying to learn how to predict the temperature outside based on the number of people you see wearing jackets. If you only train your model on data from a specific city, it might learn that people who wear jackets in that city are always wearing them, even on sunny days. However, when you try to make predictions in a different city, the model might fail because it doesn't know that people in that city might not wear jackets even on sunny days. This is an example of overfitting. It's like the model is only focused on the specific details of the training data and ignores the bigger picture. To prevent overfitting, we can use techniques like regularization and cross-validation to make sure the model learns the general patterns from the training data, rather\n",
      "\n",
      "\n",
      "[Prompt 2]\n",
      "Write a short story involving a robot learning to feel emotions for the first time.\n",
      "Answer: (No answer provided)\n",
      "\n",
      "Exercise: Give an example of a situation where a robot's learning and perception abilities would be beneficial in a household.\n",
      "Answer: (No answer provided)\n",
      "\n",
      "Exercise: Name three different types of sensors that can be used in robots for learning and perception.\n",
      "Answer: (No answer provided)\n",
      "\n",
      "Exercise: How do robots learn from their environment?\n",
      "Answer: Robots learn from their environment through a process called reinforcement learning, where they receive feedback and rewards for their actions.\n",
      "\n",
      "Exercise: Explain the concept of perception in the context of robotics.\n",
      "Answer: Perception in robotics refers to a robot's ability to understand its surroundings and make sense of the information it receives from its sensors.\n",
      "\n",
      "Exercise: Give an example of how a robot's learning and perception capabilities can be used in a healthcare setting.\n",
      "Answer: (No answer provided)\n",
      "\n",
      "Exercise: What is the purpose of a robot's\n",
      "\n",
      "\n",
      "=== GPT-Neo-1.3B ===\n",
      "\n",
      "[Prompt 1]\n",
      "Explain the concept of overfitting in machine learning to a high school student.\n",
      "\n",
      "I am looking for some advice on how to approach this specific problem with some specific examples. I am a high school student and not sure if I should have an understanding of the concept of overfitting or not.\n",
      "\n",
      "I am trying to predict the class of a new sample given a new (predicted) sample. My training data is a matrix of size (300 x 300). I want to predict the class of a new sample using the training data. I have a matrix (matrix of size (1 x 30) where the class of the new sample is one of the 20 classes. If I want to predict the class of a new sample, I have to calculate the probability of the class of the new sample given the training data. I have a matrix of size (30 x 1) with one element being the probability of the new sample. I need to calculate the probability of each class using this matrix.\n",
      "\n",
      "So my question is, what is the best way to\n",
      "\n",
      "\n",
      "[Prompt 2]\n",
      "Write a short story involving a robot learning to feel emotions for the first time. Write a short story where a robot is taught to understand emotions and is then allowed to express itself. Write a short story where a robot is taught to understand the emotions and is then allowed to express itself.\n",
      "\n",
      "Write a short story where a robot is taught to understand the emotions and is then allowed to express itself.\n",
      "\n",
      "Write a short story where a robot is taught to understand the emotions and is then allowed to express itself.\n",
      "\n",
      "A simple idea. A robot is given a small box and is then given a task to perform. This task is to open the box. The task consists of a series of steps. The robot must move towards the box and open it with the least possible effort.\n",
      "\n",
      "The robot must move towards the box and open it with the least possible effort.\n",
      "\n",
      "Some notes:\n",
      "\n",
      "The robot must move towards the box and open it with the least possible effort.\n",
      "\n",
      "The robot must open the box with the least possible effort.\n",
      "\n",
      "Some\n",
      "\n"
     ]
    }
   ],
   "source": [
    "for model_name in results:\n",
    "    print(f\"\\n=== {model_name} ===\")\n",
    "    for prompt_name in results[model_name]:\n",
    "        print(f\"\\n[{prompt_name}]\\n{results[model_name][prompt_name]}\\n\")"
   ]
  },
  {
   "cell_type": "code",
   "execution_count": null,
   "id": "fd89f2e2-bf99-4f07-9909-06b8f4e52b71",
   "metadata": {},
   "outputs": [],
   "source": []
  },
  {
   "cell_type": "code",
   "execution_count": null,
   "id": "3e55648b-51da-4b4b-8cad-26fdbc1ff000",
   "metadata": {},
   "outputs": [],
   "source": []
  },
  {
   "cell_type": "code",
   "execution_count": null,
   "id": "2ddbd3e1-cf5c-421c-88e0-5023620d8875",
   "metadata": {},
   "outputs": [],
   "source": []
  },
  {
   "cell_type": "code",
   "execution_count": null,
   "id": "3224d0f6-ffa9-4448-bba6-8778a2c37b51",
   "metadata": {},
   "outputs": [],
   "source": []
  }
 ],
 "metadata": {
  "kernelspec": {
   "display_name": "benpyenv",
   "language": "python",
   "name": "benpyenv"
  },
  "language_info": {
   "codemirror_mode": {
    "name": "ipython",
    "version": 3
   },
   "file_extension": ".py",
   "mimetype": "text/x-python",
   "name": "python",
   "nbconvert_exporter": "python",
   "pygments_lexer": "ipython3",
   "version": "3.10.16"
  }
 },
 "nbformat": 4,
 "nbformat_minor": 5
}
