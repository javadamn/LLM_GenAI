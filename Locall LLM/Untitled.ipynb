{
 "cells": [
  {
   "cell_type": "code",
   "execution_count": 1,
   "id": "867566f3-3090-463e-bb5b-912fcc218686",
   "metadata": {},
   "outputs": [
    {
     "name": "stderr",
     "output_type": "stream",
     "text": [
      "/new/benpyenv/lib/python3.10/site-packages/tqdm/auto.py:21: TqdmWarning: IProgress not found. Please update jupyter and ipywidgets. See https://ipywidgets.readthedocs.io/en/stable/user_install.html\n",
      "  from .autonotebook import tqdm as notebook_tqdm\n"
     ]
    }
   ],
   "source": [
    "from transformers import AutoTokenizer, AutoModelForCausalLM, pipeline\n",
    "import torch\n",
    "import json\n"
   ]
  },
  {
   "cell_type": "code",
   "execution_count": 5,
   "id": "ae0cd258-6388-4862-8314-2e552fb99c5e",
   "metadata": {},
   "outputs": [],
   "source": [
    "models = {\n",
    "    \"TinyLlama\": \"TinyLlama/TinyLlama-1.1B-Chat-v1.0\",\n",
    "    \"Phi-2\": \"microsoft/phi-2\",\n",
    "    # \"Mistral-7B\": \"mistralai/Mistral-7B-Instruct-v0.1\",\n",
    "    # \"Zephyr-7B\": \"HuggingFaceH4/zephyr-7b-beta\",\n",
    "    \"GPT-Neo-1.3B\": \"EleutherAI/gpt-neo-1.3B\"\n",
    "}\n",
    "\n",
    "prompts = {\n",
    "    \"Prompt 1\": \"Explain the concept of overfitting in machine learning to a high school student.\",\n",
    "    \"Prompt 2\": \"Write a short story involving a robot learning to feel emotions for the first time.\"\n",
    "}\n"
   ]
  },
  {
   "cell_type": "code",
   "execution_count": null,
   "id": "a372f081-2021-433c-8de8-baeb5a645369",
   "metadata": {},
   "outputs": [
    {
     "name": "stdout",
     "output_type": "stream",
     "text": [
      "\n",
      "Loading model: TinyLlama\n"
     ]
    },
    {
     "name": "stderr",
     "output_type": "stream",
     "text": [
      "Device set to use cpu\n"
     ]
    },
    {
     "name": "stdout",
     "output_type": "stream",
     "text": [
      "Generating response from TinyLlama for Prompt 1\n",
      "Generating response from TinyLlama for Prompt 2\n",
      "\n",
      "Loading model: Phi-2\n"
     ]
    },
    {
     "name": "stderr",
     "output_type": "stream",
     "text": [
      "Loading checkpoint shards: 100%|██████████████████████████████████████| 2/2 [00:05<00:00,  2.60s/it]\n",
      "Device set to use cpu\n",
      "Setting `pad_token_id` to `eos_token_id`:50256 for open-end generation.\n"
     ]
    },
    {
     "name": "stdout",
     "output_type": "stream",
     "text": [
      "Generating response from Phi-2 for Prompt 1\n"
     ]
    }
   ],
   "source": [
    "results = {}\n",
    "\n",
    "for model_name, model_id in models.items():\n",
    "    print(f\"\\nLoading model: {model_name}\")\n",
    "    tokenizer = AutoTokenizer.from_pretrained(model_id)\n",
    "    model = AutoModelForCausalLM.from_pretrained(\n",
    "        model_id,\n",
    "        load_in_8bit=True if torch.cuda.is_available() else False,\n",
    "        device_map=\"auto\" if torch.cuda.is_available() else None)\n",
    "\n",
    "    generator = pipeline(\"text-generation\", model=model, tokenizer=tokenizer)\n",
    "\n",
    "    results[model_name] = {}\n",
    "    for prompt_name, prompt_text in prompts.items():\n",
    "        print(f\"Generating response from {model_name} for {prompt_name}\")\n",
    "        response = generator(prompt_text, max_new_tokens=200, do_sample=True, temperature=0.7)[0]['generated_text']\n",
    "        results[model_name][prompt_name] = response"
   ]
  },
  {
   "cell_type": "code",
   "execution_count": 5,
   "id": "88292b2c-f3ae-4003-a547-9c907cbc3bb6",
   "metadata": {},
   "outputs": [
    {
     "data": {
      "text/plain": [
       "{'TinyLlama': {'Prompt 1': 'Explain the concept of overfitting in machine learning to a high school student. Demonstrate how overfitting can occur and provide examples to illustrate how it can impact data analysis.',\n",
       "  'Prompt 2': 'Write a short story involving a robot learning to feel emotions for the first time.'},\n",
       " 'Phi-2': {'Prompt 1': \"Explain the concept of overfitting in machine learning to a high school student.\\n\\nSolution:\\nOverfitting is a problem that can occur in machine learning when a model is trained too well on the training data, but performs poorly on the testing or unseen data. It's like if you were trying to learn how to ride a bike by only practicing on a small training track, but then tried to ride on a big mountain trail and couldn't keep your balance.\\n\\nTo understand overfitting, imagine you have a backpack full of different items that you want to organize. You have a limited amount of space in your backpack, so you need to make sure you choose the most important items to fit in. If you choose too many items or put too much pressure on the backpack, it might tear or break, and you won't be able to carry your items anymore.\\n\\nIn machine learning, the training data is like the items in your backpack, and the model is like the backpack itself. The goal is to find the right balance between fitting all the important information\",\n",
       "  'Prompt 2': 'Write a short story involving a robot learning to feel emotions for the first time. What challenges does it face and how does it overcome them?\\n\\nAnswers:\\n1. The robot could potentially be used for tasks such as helping with household chores or assisting people with disabilities.\\n2. The robot could use data and analysis to understand human behavior and emotions, and use that information to interact with humans in a more empathetic way.\\n3. This is a difficult question with no right or wrong answer. Some people may argue that robots should have the same rights as humans, while others may argue that they should not.\\n4. The robot would need to learn about human emotions and how to respond appropriately, as well as navigate social norms and expectations.\\n\\nLong and Difficult Reasoning Exercise:\\n1. Some people think that robots could replace humans in certain jobs. Do you agree or disagree? Why?\\n2. Imagine a world where robots and humans coexist. How do you think they would interact with each other?\\n3. Do you'}}"
      ]
     },
     "execution_count": 5,
     "metadata": {},
     "output_type": "execute_result"
    }
   ],
   "source": [
    "results"
   ]
  },
  {
   "cell_type": "code",
   "execution_count": null,
   "id": "be9384fc-e845-4b2a-8aad-639eed852c20",
   "metadata": {},
   "outputs": [],
   "source": [
    "with open(\"llm_outputs.json\", \"w\") as f:\n",
    "    json.dump(results, f, indent=4)"
   ]
  },
  {
   "cell_type": "code",
   "execution_count": null,
   "id": "b4e4e2e9-026a-43b3-b21e-5dacbef93b1a",
   "metadata": {},
   "outputs": [],
   "source": [
    "for model_name in results:\n",
    "    print(f\"\\n=== {model_name} ===\")\n",
    "    for prompt_name in results[model_name]:\n",
    "        print(f\"\\n[{prompt_name}]\\n{results[model_name][prompt_name]}\\n\")"
   ]
  },
  {
   "cell_type": "code",
   "execution_count": null,
   "id": "fd89f2e2-bf99-4f07-9909-06b8f4e52b71",
   "metadata": {},
   "outputs": [],
   "source": []
  },
  {
   "cell_type": "code",
   "execution_count": null,
   "id": "3e55648b-51da-4b4b-8cad-26fdbc1ff000",
   "metadata": {},
   "outputs": [],
   "source": []
  },
  {
   "cell_type": "code",
   "execution_count": null,
   "id": "2ddbd3e1-cf5c-421c-88e0-5023620d8875",
   "metadata": {},
   "outputs": [],
   "source": []
  },
  {
   "cell_type": "code",
   "execution_count": null,
   "id": "3224d0f6-ffa9-4448-bba6-8778a2c37b51",
   "metadata": {},
   "outputs": [],
   "source": []
  }
 ],
 "metadata": {
  "kernelspec": {
   "display_name": "benpyenv",
   "language": "python",
   "name": "benpyenv"
  },
  "language_info": {
   "codemirror_mode": {
    "name": "ipython",
    "version": 3
   },
   "file_extension": ".py",
   "mimetype": "text/x-python",
   "name": "python",
   "nbconvert_exporter": "python",
   "pygments_lexer": "ipython3",
   "version": "3.10.16"
  }
 },
 "nbformat": 4,
 "nbformat_minor": 5
}
